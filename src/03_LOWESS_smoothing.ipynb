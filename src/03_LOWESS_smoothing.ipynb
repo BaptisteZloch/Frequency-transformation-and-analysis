{
 "cells": [
  {
   "cell_type": "code",
   "execution_count": null,
   "metadata": {},
   "outputs": [],
   "source": [
    "from warnings import filterwarnings\n",
    "\n",
    "filterwarnings(\"ignore\")\n",
    "\n",
    "import numpy as np\n",
    "import pandas as pd\n",
    "\n",
    "import plotly.graph_objects as go\n",
    "from plotly.subplots import make_subplots\n",
    "from statsmodels.nonparametric.smoothers_lowess import lowess\n",
    "\n",
    "from quant_invest_lab.data_provider import download_crypto_historical_data\n",
    "from quant_invest_lab.backtest import ohlc_long_only_backtester, ohlc_short_only_backtester\n"
   ]
  },
  {
   "cell_type": "code",
   "execution_count": null,
   "metadata": {},
   "outputs": [],
   "source": [
    "SYMBOL = \"BTC-USDT\"\n",
    "TIMEFRAME = \"12hour\"\n",
    "df = download_crypto_historical_data(SYMBOL, TIMEFRAME).iloc[-3300:]\n",
    "df.dropna(inplace=True)\n",
    "print(df.shape)\n",
    "df.head()"
   ]
  },
  {
   "cell_type": "code",
   "execution_count": null,
   "metadata": {},
   "outputs": [],
   "source": [
    "df[\"Close_denoised\"] = lowess(\n",
    "    df.Close.values, np.arange(0, len(df.Close)), frac=1 / 72\n",
    ")[:, 1]\n",
    "\n",
    "df[\"Close_denoised_signal\"] = df[\"Close_denoised\"].diff().fillna(1.0).apply(np.sign)\n"
   ]
  },
  {
   "cell_type": "code",
   "execution_count": null,
   "metadata": {},
   "outputs": [],
   "source": [
    "fig = make_subplots(rows=1, cols=1)\n",
    "\n",
    "fig.add_trace(\n",
    "    go.Scatter(\n",
    "        name=\"Raw data\",\n",
    "        x=df.index,\n",
    "        y=df[\"Close\"],\n",
    "    ),\n",
    "    row=1,\n",
    "    col=1,\n",
    ")\n",
    "fig.add_trace(\n",
    "    go.Scatter(\n",
    "        name=\"Denoised data\",\n",
    "        x=df.index,\n",
    "        y=df[\"Close_denoised\"],\n",
    "    ),\n",
    "    row=1,\n",
    "    col=1,\n",
    ")\n",
    "fig.update_layout(\n",
    "    xaxis_rangeslider_visible=False,\n",
    "    showlegend=True,\n",
    "    title_text=\"LOWESS filtering\",\n",
    ")"
   ]
  },
  {
   "attachments": {},
   "cell_type": "markdown",
   "metadata": {},
   "source": [
    "# Offline backtest\n"
   ]
  },
  {
   "attachments": {},
   "cell_type": "markdown",
   "metadata": {},
   "source": [
    "## Long"
   ]
  },
  {
   "cell_type": "code",
   "execution_count": null,
   "metadata": {},
   "outputs": [],
   "source": [
    "def buy_func(row: pd.Series, prev_row: pd.Series) -> bool:\n",
    "    return True if row.Close_denoised_signal == 1 else False\n",
    "\n",
    "\n",
    "def sell_func(row: pd.Series, prev_row: pd.Series, trading_days: pd.Series) -> bool:\n",
    "    return True if row.Close_denoised_signal == -1 else False\n",
    "\n",
    "\n",
    "# Backtest your strategy\n",
    "ohlc_long_only_backtester(\n",
    "    df=df,\n",
    "    long_entry_function=buy_func,\n",
    "    long_exit_function=sell_func,\n",
    "    timeframe=TIMEFRAME,\n",
    "    initial_equity=1000,\n",
    ")"
   ]
  },
  {
   "attachments": {},
   "cell_type": "markdown",
   "metadata": {},
   "source": [
    "## Short"
   ]
  },
  {
   "cell_type": "code",
   "execution_count": null,
   "metadata": {},
   "outputs": [],
   "source": [
    "def buy_func(row: pd.Series, prev_row: pd.Series) -> bool:\n",
    "    return True if row.Close_denoised_signal == -1 else False\n",
    "\n",
    "\n",
    "def sell_func(row: pd.Series, prev_row: pd.Series, trading_days: pd.Series) -> bool:\n",
    "    return True if row.Close_denoised_signal == 1 else False\n",
    "\n",
    "\n",
    "# Backtest your strategy\n",
    "ohlc_short_only_backtester(\n",
    "    df=df,\n",
    "    short_entry_function=buy_func,\n",
    "    short_exit_function=sell_func,\n",
    "    timeframe=TIMEFRAME,\n",
    "    initial_equity=1000,\n",
    ")"
   ]
  },
  {
   "attachments": {},
   "cell_type": "markdown",
   "metadata": {},
   "source": [
    "# Online backtest\n"
   ]
  },
  {
   "cell_type": "code",
   "execution_count": null,
   "metadata": {},
   "outputs": [],
   "source": [
    "df = download_crypto_historical_data(SYMBOL, TIMEFRAME).iloc[-3300:]\n",
    "\n",
    "\n",
    "def online_denoise(\n",
    "    closes: pd.Series,\n",
    "    frac: float = 1 / 72,\n",
    "    with_memory: bool = False,\n",
    "    series_name: str = \"Close\",\n",
    "):\n",
    "    if with_memory is False:\n",
    "        return np.sign(\n",
    "            np.diff(\n",
    "                lowess(closes.to_numpy(), np.arange(0, len(closes)), frac=frac)[:, 1]\n",
    "            )[-1]\n",
    "        )\n",
    "    else:\n",
    "        full_closes = df.loc[: closes.index[-1]][series_name]\n",
    "        return np.sign(\n",
    "            np.diff(\n",
    "                lowess(\n",
    "                    full_closes.to_numpy(), np.arange(0, len(full_closes)), frac=frac\n",
    "                )[:, 1]\n",
    "            )[-1]\n",
    "        )\n",
    "\n",
    "\n",
    "df[\"Close_denoised_signal\"] = df.Close.rolling(300).apply(online_denoise, args=(1 / 72, False,\"Close\"))\n",
    "\n",
    "df.dropna(inplace=True)\n",
    "df.head()"
   ]
  },
  {
   "cell_type": "code",
   "execution_count": null,
   "metadata": {},
   "outputs": [],
   "source": [
    "def buy_func(row: pd.Series, prev_row: pd.Series) -> bool:\n",
    "    return True if row.Close_denoised_signal == 1 else False\n",
    "\n",
    "\n",
    "def sell_func(row: pd.Series, prev_row: pd.Series, trading_days: int) -> bool:\n",
    "    return True if row.Close_denoised_signal == -1 else False\n",
    "\n",
    "\n",
    "# Backtest your strategy\n",
    "ohlc_long_only_backtester(\n",
    "    df=df,\n",
    "    long_entry_function=buy_func,\n",
    "    long_exit_function=sell_func,\n",
    "    timeframe=TIMEFRAME,\n",
    "    initial_equity=1000,\n",
    ")"
   ]
  },
  {
   "cell_type": "code",
   "execution_count": null,
   "metadata": {},
   "outputs": [],
   "source": []
  }
 ],
 "metadata": {
  "kernelspec": {
   "display_name": ".venv",
   "language": "python",
   "name": "python3"
  },
  "language_info": {
   "codemirror_mode": {
    "name": "ipython",
    "version": 3
   },
   "file_extension": ".py",
   "mimetype": "text/x-python",
   "name": "python",
   "nbconvert_exporter": "python",
   "pygments_lexer": "ipython3",
   "version": "3.10.6"
  },
  "orig_nbformat": 4,
  "vscode": {
   "interpreter": {
    "hash": "923ed36faab3863377e0ec0f5dd609226ce434eb42aed644930e1ab952439a23"
   }
  }
 },
 "nbformat": 4,
 "nbformat_minor": 2
}
